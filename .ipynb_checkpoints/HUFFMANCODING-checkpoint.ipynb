{
 "cells": [
  {
   "cell_type": "code",
   "execution_count": 21,
   "id": "f31c7396",
   "metadata": {},
   "outputs": [],
   "source": [
    "import os\n",
    "import heapq\n",
    "class BinaryTreeNode:\n",
    "    def __init__(self,value,freq):\n",
    "        self.value=value\n",
    "        self.freq=freq\n",
    "        self.left=None\n",
    "        self.right=None\n",
    "    def __lt__(self,other):\n",
    "        return self.freq<other.freq\n",
    "    def __eq__(self,other):\n",
    "        return self.freq==other.freq\n",
    "class HuffmanCoding:\n",
    "    \n",
    "    def __init__(self,path):\n",
    "        self.path=path\n",
    "        self.__heap=[]\n",
    "        self.__codes={}\n",
    "\n",
    "        \n",
    "        \n",
    "        \n",
    "    def __make_frequency_dict(self,text):\n",
    "        freq_dict={}\n",
    "        for char in text:\n",
    "            if char not in freq_dict:\n",
    "                freq_dict[char]=0\n",
    "            freq_dict[char]+=1\n",
    "        return freq_dict\n",
    "    def __buildHeap(self,freq_dict):\n",
    "        for key in freq_dict:\n",
    "            frequency=freq_dict[key]\n",
    "            binary_tree_node=BinaryTreeNode(key,frequency)\n",
    "            heapq.heappush(self.__heap,binary_tree_node)\n",
    "    def __buildTree(self):\n",
    "        while(len(self.__heap)>1):\n",
    "            binary_tree_node_1=heapq.heappop(self.__heap)\n",
    "            binary_tree_node_2=heapq.heappop(self.__heap)\n",
    "            freq_sum=binary_tree_node_1.freq+binary_tree_node_2.freq\n",
    "            newNode=BinaryTreeNode(None,freq_sum)\n",
    "            newNode.left=binary_tree_node_1\n",
    "            newNode.right=binary_tree_node_2\n",
    "            heapq.heappush(self.__heap,newNode)\n",
    "        return\n",
    "    def __buildCodesHelper(self,root,curr_bits):\n",
    "        if root is None:\n",
    "            return \n",
    "        if root.value is not None:\n",
    "            self.__codes[root.value]=curr_bits\n",
    "            return\n",
    "        self.__buildCodesHelper(root.left,curr_bits+\"0\")\n",
    "        self.__buildCodesHelper(root.right,curr_bits+\"1\")\n",
    "    def __buildCodes(self):\n",
    "        root=heapq.heappop(self.__heap)\n",
    "        self.__buildCodesHelper(root,\"\")\n",
    "    def __getEncodedText(self,text):\n",
    "        encoded_text=\"\"\n",
    "        for char in text:\n",
    "            encoded_text+=self.__codes[char]\n",
    "        return encoded_text\n",
    "    def __getPaddedEncodedText(self,encoded_text):\n",
    "        padded_amount=8-(len(encoded_text)%8)\n",
    "        \n",
    "        for i in range(padded_amount):\n",
    "            encoded_text+='0'\n",
    "        padded_info=\"{0:08b}\".format(padded_amount)\n",
    "        encoded_text=padded_info+encoded_text\n",
    "        return encoded_text\n",
    "    def __getBytesArray(self,padded_encoded_text):\n",
    "        array=[]\n",
    "        for i in range(0,len(padded_encoded_text),8):\n",
    "            byte=padded_encoded_text[i:i+8]\n",
    "            array.append(int(byte,2))\n",
    "        return array\n",
    "        \n",
    "    def compress(self):\n",
    "        file_name,file_extension=os.path.splitext(self.path)\n",
    "        output_path=file_name + \".bin\"\n",
    "        with open(self.path,'r+') as file,open(output_path,'wb')as output:\n",
    "            #make frequency dictionary using the text\n",
    "            text=file.read()\n",
    "            text=text.rstrip()\n",
    "            freq_dict=self.__make_frequency_dict(text)\n",
    "            #construct the heap from the frequency_dict\n",
    "            self.__buildHeap(freq_dict)\n",
    "        #construct the binary tree from the heap\n",
    "            self.__buildTree()\n",
    "            self.__buildCodes()\n",
    "        #creating the encoded text using the codes\n",
    "            encoded_text=self.__getEncodedText(text)\n",
    "        #put this encoded text into the binary file\n",
    "            padded_encoded_text=self.__getPaddedEncodedText(encoded_text)\n",
    "            bytes_array=self.__getBytesArray(padded_encoded_text)\n",
    "        #return the binary file as output\n",
    "            final_bytes=bytes(bytes_array)\n",
    "            output.write(final_bytes)\n",
    "        print('Compressed')\n",
    "        return output_path\n",
    "\n",
    "\n",
    "\n"
   ]
  },
  {
   "cell_type": "code",
   "execution_count": 25,
   "id": "396fed07",
   "metadata": {},
   "outputs": [
    {
     "ename": "SyntaxError",
     "evalue": "(unicode error) 'unicodeescape' codec can't decode bytes in position 2-3: truncated \\UXXXXXXXX escape (Temp/ipykernel_15172/4224744485.py, line 1)",
     "output_type": "error",
     "traceback": [
      "\u001b[1;36m  File \u001b[1;32m\"C:\\Users\\sured\\AppData\\Local\\Temp/ipykernel_15172/4224744485.py\"\u001b[1;36m, line \u001b[1;32m1\u001b[0m\n\u001b[1;33m    path='C:\\Users\\sured\\surendram'\u001b[0m\n\u001b[1;37m                                   ^\u001b[0m\n\u001b[1;31mSyntaxError\u001b[0m\u001b[1;31m:\u001b[0m (unicode error) 'unicodeescape' codec can't decode bytes in position 2-3: truncated \\UXXXXXXXX escape\n"
     ]
    }
   ],
   "source": [
    "path='C:\\Users\\sured\\surendram'"
   ]
  },
  {
   "cell_type": "code",
   "execution_count": 24,
   "id": "904e618d",
   "metadata": {},
   "outputs": [
    {
     "ename": "FileNotFoundError",
     "evalue": "[Errno 2] No such file or directory: 'sample.txt'",
     "output_type": "error",
     "traceback": [
      "\u001b[1;31m---------------------------------------------------------------------------\u001b[0m",
      "\u001b[1;31mFileNotFoundError\u001b[0m                         Traceback (most recent call last)",
      "\u001b[1;32m~\\AppData\\Local\\Temp/ipykernel_15172/2887012051.py\u001b[0m in \u001b[0;36m<module>\u001b[1;34m\u001b[0m\n\u001b[0;32m      1\u001b[0m \u001b[0mh\u001b[0m\u001b[1;33m=\u001b[0m\u001b[0mHuffmanCoding\u001b[0m\u001b[1;33m(\u001b[0m\u001b[0mpath\u001b[0m\u001b[1;33m)\u001b[0m\u001b[1;33m\u001b[0m\u001b[1;33m\u001b[0m\u001b[0m\n\u001b[1;32m----> 2\u001b[1;33m \u001b[0moutput_path\u001b[0m\u001b[1;33m=\u001b[0m\u001b[0mh\u001b[0m\u001b[1;33m.\u001b[0m\u001b[0mcompress\u001b[0m\u001b[1;33m(\u001b[0m\u001b[1;33m)\u001b[0m\u001b[1;33m\u001b[0m\u001b[1;33m\u001b[0m\u001b[0m\n\u001b[0m",
      "\u001b[1;32m~\\AppData\\Local\\Temp/ipykernel_15172/1974288440.py\u001b[0m in \u001b[0;36mcompress\u001b[1;34m(self)\u001b[0m\n\u001b[0;32m     77\u001b[0m         \u001b[0mfile_name\u001b[0m\u001b[1;33m,\u001b[0m\u001b[0mfile_extension\u001b[0m\u001b[1;33m=\u001b[0m\u001b[0mos\u001b[0m\u001b[1;33m.\u001b[0m\u001b[0mpath\u001b[0m\u001b[1;33m.\u001b[0m\u001b[0msplitext\u001b[0m\u001b[1;33m(\u001b[0m\u001b[0mself\u001b[0m\u001b[1;33m.\u001b[0m\u001b[0mpath\u001b[0m\u001b[1;33m)\u001b[0m\u001b[1;33m\u001b[0m\u001b[1;33m\u001b[0m\u001b[0m\n\u001b[0;32m     78\u001b[0m         \u001b[0moutput_path\u001b[0m\u001b[1;33m=\u001b[0m\u001b[0mfile_name\u001b[0m \u001b[1;33m+\u001b[0m \u001b[1;34m\".bin\"\u001b[0m\u001b[1;33m\u001b[0m\u001b[1;33m\u001b[0m\u001b[0m\n\u001b[1;32m---> 79\u001b[1;33m         \u001b[1;32mwith\u001b[0m \u001b[0mopen\u001b[0m\u001b[1;33m(\u001b[0m\u001b[0mself\u001b[0m\u001b[1;33m.\u001b[0m\u001b[0mpath\u001b[0m\u001b[1;33m,\u001b[0m\u001b[1;34m'r+'\u001b[0m\u001b[1;33m)\u001b[0m \u001b[1;32mas\u001b[0m \u001b[0mfile\u001b[0m\u001b[1;33m,\u001b[0m\u001b[0mopen\u001b[0m\u001b[1;33m(\u001b[0m\u001b[0moutput_path\u001b[0m\u001b[1;33m,\u001b[0m\u001b[1;34m'wb'\u001b[0m\u001b[1;33m)\u001b[0m\u001b[1;32mas\u001b[0m \u001b[0moutput\u001b[0m\u001b[1;33m:\u001b[0m\u001b[1;33m\u001b[0m\u001b[1;33m\u001b[0m\u001b[0m\n\u001b[0m\u001b[0;32m     80\u001b[0m             \u001b[1;31m#make frequency dictionary using the text\u001b[0m\u001b[1;33m\u001b[0m\u001b[1;33m\u001b[0m\u001b[0m\n\u001b[0;32m     81\u001b[0m             \u001b[0mtext\u001b[0m\u001b[1;33m=\u001b[0m\u001b[0mfile\u001b[0m\u001b[1;33m.\u001b[0m\u001b[0mread\u001b[0m\u001b[1;33m(\u001b[0m\u001b[1;33m)\u001b[0m\u001b[1;33m\u001b[0m\u001b[1;33m\u001b[0m\u001b[0m\n",
      "\u001b[1;31mFileNotFoundError\u001b[0m: [Errno 2] No such file or directory: 'sample.txt'"
     ]
    }
   ],
   "source": [
    "h=HuffmanCoding(path)\n",
    "output_path=h.compress()"
   ]
  }
 ],
 "metadata": {
  "kernelspec": {
   "display_name": "Python 3 (ipykernel)",
   "language": "python",
   "name": "python3"
  },
  "language_info": {
   "codemirror_mode": {
    "name": "ipython",
    "version": 3
   },
   "file_extension": ".py",
   "mimetype": "text/x-python",
   "name": "python",
   "nbconvert_exporter": "python",
   "pygments_lexer": "ipython3",
   "version": "3.9.7"
  }
 },
 "nbformat": 4,
 "nbformat_minor": 5
}
